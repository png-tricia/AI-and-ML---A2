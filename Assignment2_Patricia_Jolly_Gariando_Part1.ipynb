{
 "cells": [
  {
   "cell_type": "markdown",
   "metadata": {},
   "source": [
    "Part 1: Training your Algorithm\n",
    "\n",
    "We are going to be using our trained algorithm from Assigment #1. "
   ]
  },
  {
   "cell_type": "code",
   "execution_count": null,
   "metadata": {},
   "outputs": [],
   "source": [
    "import numpy as np\n",
    "import pandas as pd\n",
    "import matplotlib.pyplot as plt\n",
    "import seaborn as sns\n",
    "\n",
    "#Read .csv file \n",
    "airline = pd.read_csv('Invistico_Airline.csv')\n",
    "\n",
    "#Dropped \n",
    "airline.drop('Class', axis=1, inplace=True)\n",
    "airline.drop('Flight Distance', axis=1, inplace=True)\n",
    "airline.drop('Departure/Arrival time convenient', axis=1, inplace=True)\n",
    "airline.drop('Gate location', axis=1, inplace=True)\n",
    "airline.drop('Online support', axis=1, inplace=True)\n",
    "airline.drop('Ease of Online booking', axis=1, inplace=True)\n",
    "airline.drop('Arrival Delay in Minutes', axis=1, inplace=True)\n",
    "\n",
    "#Replaced\n",
    "airline.replace('Male', 0, inplace=True)\n",
    "airline.replace('Female', 1, inplace=True)\n",
    "airline.replace('Personal Travel', 0, inplace=True)\n",
    "airline.replace('Business travel', 1, inplace=True)\n",
    "airline.replace('Loyal Customer', 0, inplace=True)\n",
    "airline.replace('disloyal Customer', 1, inplace=True)\n",
    "airline.replace('satisfied', 0, inplace=True)\n",
    "airline.replace('dissatisfied', 1, inplace=True)\n",
    "\n",
    "#Dropped NaN rows \n",
    "airline.dropna(axis=0, inplace=True)"
   ]
  },
  {
   "cell_type": "code",
   "execution_count": null,
   "metadata": {},
   "outputs": [],
   "source": [
    "# We need to split our data into x and y. We use X to predict y.\n",
    "X, y = airline.drop('satisfaction', axis=1), airline['satisfaction'].values\n",
    "\n",
    "# Split the data into a training set and a testing set \n",
    "from sklearn.model_selection import train_test_split\n",
    "X_train, X_test, y_train, y_test = train_test_split(X, y, test_size=0.3, random_state=87)\n",
    "\n",
    "# Train our algorithm \n",
    "from sklearn.linear_model import LogisticRegression\n",
    "\n",
    "logmodel = LogisticRegression(max_iter=200000)\n",
    "logmodel.fit(X_train, y_train)"
   ]
  },
  {
   "cell_type": "markdown",
   "metadata": {},
   "source": [
    "Part 2: Restful Web Service Setup"
   ]
  },
  {
   "cell_type": "code",
   "execution_count": null,
   "metadata": {},
   "outputs": [],
   "source": [
    "# Start with imports \n",
    "from flask import Flask, request\n",
    "app = Flask(__name__)\n",
    "\n",
    "# The name of our URL will also be called <airline>. "
   ]
  },
  {
   "cell_type": "code",
   "execution_count": null,
   "metadata": {},
   "outputs": [],
   "source": [
    "# We are going to start with the first record of our dataframe without the satisfaction column \n",
    "airline.drop('satisfaction', axis=1).iloc[0]"
   ]
  },
  {
   "cell_type": "code",
   "execution_count": null,
   "metadata": {},
   "outputs": [],
   "source": [
    "# We need to format our pandas series into a JSON string\n",
    "airline.drop('satisfaction', axis=1).iloc[0].to_json(orient=\"index\")"
   ]
  },
  {
   "cell_type": "markdown",
   "metadata": {},
   "source": [
    "Part 3: Sample "
   ]
  },
  {
   "cell_type": "code",
   "execution_count": null,
   "metadata": {},
   "outputs": [],
   "source": [
    "# This will return a JSON record showing a sample rquest. \n",
    "# This JSON record will be copied and pasted in Postman to test Part 5. \n",
    "@app.get(\"/airline/sample\")\n",
    "def get_sample():\n",
    "    return airline.drop('satisfaction', axis=1).iloc[0].to_json(orient=\"index\")"
   ]
  },
  {
   "cell_type": "markdown",
   "metadata": {},
   "source": [
    "Part 4: Explain"
   ]
  },
  {
   "cell_type": "code",
   "execution_count": null,
   "metadata": {},
   "outputs": [],
   "source": [
    "# This will return a string that explains what and how your sample from part 3 is and how it should be modified. \n",
    "explanation = \"The following columns were altered so that the algorithm can process the data: Gender, Type of Travel, Customer Type, and Satisfied.\\n\\nGender: 'Male' = 0 and 'Female' = 1.\\nType of Travel: 'Personal Travel' = 0 and 'Business travel' = 1.\\nCustomer Type: 'Loyal Customer' = 0 and 'disloyal Customer' = 1. \" + \"\\n\\nThe algorithm will return a 0 if the customer was satisifed with their flight or 1, if customer was dissatisfied with their flight.\" + \"\\nOtherwise, the remaining columns are to be rated from 0 to 5. 0 being the lowest and 5 being the highest.\"\n",
    "\n",
    "@app.get(\"/airline/explain\")\n",
    "def get_explanation():\n",
    "    return explanation"
   ]
  },
  {
   "cell_type": "markdown",
   "metadata": {},
   "source": [
    "Part 5: Evaluate"
   ]
  },
  {
   "cell_type": "code",
   "execution_count": null,
   "metadata": {},
   "outputs": [],
   "source": [
    "# This will return a string that explains what and how your sample from part 3 is and how it should be modified. \n",
    "@app.post(\"/airline/evaluate\")\n",
    "def test_sample():\n",
    "    if request.is_json:\n",
    "        person = request.get_json()\n",
    "        dataframe = pd.DataFrame([person])\n",
    "        result = logmodel.predict(dataframe)\n",
    "        return '{}'.format(result[0])\n",
    "    return {\"error\": \"Request must be JSON\"}"
   ]
  },
  {
   "cell_type": "code",
   "execution_count": null,
   "metadata": {},
   "outputs": [],
   "source": [
    "if __name__ == '__main__':\n",
    "    app.run()"
   ]
  }
 ],
 "metadata": {
  "kernelspec": {
   "display_name": "base",
   "language": "python",
   "name": "python3"
  },
  "language_info": {
   "codemirror_mode": {
    "name": "ipython",
    "version": 3
   },
   "file_extension": ".py",
   "mimetype": "text/x-python",
   "name": "python",
   "nbconvert_exporter": "python",
   "pygments_lexer": "ipython3",
   "version": "3.11.7"
  }
 },
 "nbformat": 4,
 "nbformat_minor": 2
}
